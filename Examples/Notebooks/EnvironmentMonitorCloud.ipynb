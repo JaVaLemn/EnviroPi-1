{
 "cells": [
  {
   "cell_type": "markdown",
   "source": [
    "# Environment monitor\n",
    "\n",
    "This notebook is the environment monitor. It will log all readings to Adafruit IO and show readings on the LCD screen."
   ],
   "metadata": {}
  },
  {
   "cell_type": "code",
   "execution_count": null,
   "source": [
    "import time\n",
    "import ST7735\n",
    "from ltr559 import LTR559\n",
    "from bme280 import BME280\n",
    "from PIL import Image, ImageDraw, ImageFont\n",
    "from fonts.ttf import RobotoMedium as UserFont\n",
    "from IPython.display import clear_output, display, update_display\n",
    "import matplotlib.pyplot as plt"
   ],
   "outputs": [],
   "metadata": {}
  },
  {
   "cell_type": "code",
   "execution_count": null,
   "source": [
    "import json\n",
    "from Adafruit_IO import Client, Feed, RequestError"
   ],
   "outputs": [],
   "metadata": {}
  },
  {
   "cell_type": "code",
   "execution_count": null,
   "source": [
    "# These need to be added once the Adafruit IO account is setup.\n",
    "ADAFRUIT_IO_USERNAME = input(\"Adafruit Username: \")\n",
    "ADAFRUIT_IO_KEY = input(\"Adafruit key: \")"
   ],
   "outputs": [],
   "metadata": {}
  },
  {
   "cell_type": "code",
   "execution_count": null,
   "source": [
    "# Create an instance of the REST client.\n",
    "aio = Client(ADAFRUIT_IO_USERNAME, ADAFRUIT_IO_KEY)"
   ],
   "outputs": [],
   "metadata": {}
  },
  {
   "cell_type": "code",
   "execution_count": null,
   "source": [
    "# BME280 temperature/pressure/humidity sensor\n",
    "bme280 = BME280()"
   ],
   "outputs": [],
   "metadata": {}
  },
  {
   "cell_type": "code",
   "execution_count": null,
   "source": [
    "# Proximity/Light sensor\n",
    "ltr559 = LTR559()"
   ],
   "outputs": [],
   "metadata": {}
  },
  {
   "cell_type": "code",
   "execution_count": null,
   "source": [
    "# Setting up the LCD display\n",
    "disp = ST7735.ST7735(port=0,cs=1,dc=9,backlight=12,rotation=270,spi_speed_hz=10000000)\n",
    "disp.begin()\n",
    "\n",
    "back_color = (0, 60, 20)\n",
    "text_color = (255, 255, 255)\n",
    "head_color = (255, 255,   0)\n",
    "warn_color = (255,  50,  50)\n",
    "font_size  = 14\n",
    "text_margin= 5\n",
    "\n",
    "img = Image.new('RGBA', (disp.width, disp.height))\n",
    "draw = ImageDraw.Draw(img)\n",
    "font = ImageFont.truetype(UserFont, font_size)\n",
    "size_x, size_y = draw.textsize('text', font)"
   ],
   "outputs": [],
   "metadata": {}
  },
  {
   "cell_type": "markdown",
   "source": [
    "#### Some useful functions\n",
    "\n",
    "Getting the feed id from Adafruit IO."
   ],
   "metadata": {}
  },
  {
   "cell_type": "code",
   "execution_count": null,
   "source": [
    "def getFeed(name):\n",
    "    try:\n",
    "        feedID = aio.feeds(name)\n",
    "    except RequestError:\n",
    "        feed = Feed(name=name)\n",
    "        feedID = aio.create_feed(feed)\n",
    "    return feedID"
   ],
   "outputs": [],
   "metadata": {}
  },
  {
   "cell_type": "markdown",
   "source": [
    "Updating the LCD screen with readings."
   ],
   "metadata": {}
  },
  {
   "cell_type": "code",
   "execution_count": null,
   "source": [
    "def updateLCD(t,h,p): \n",
    "    tstr=\"Temperature: {0:.1f} C\".format(t)\n",
    "    hstr=\"Humidity: {0:.1f} %\".format(h)\n",
    "    pstr=\"Pressure: {0:.1f} hPa\".format(p)\n",
    "    \n",
    "    draw.rectangle((0, 0, disp.width, disp.height), back_color)\n",
    "    draw.text((text_margin, text_margin), \"ORCSPICamp Station\", font=font, fill=head_color)\n",
    "    draw.text((text_margin, text_margin+2.0*size_y), tstr, font=font, fill=text_color)\n",
    "    draw.text((text_margin, text_margin+3.0*size_y), hstr, font=font, fill=text_color)\n",
    "    draw.text((text_margin, text_margin+4.0*size_y), pstr, font=font, fill=text_color)\n",
    "\n",
    "    disp.display(img)"
   ],
   "outputs": [],
   "metadata": {}
  },
  {
   "cell_type": "markdown",
   "source": [
    "In notebook plotting of measured data."
   ],
   "metadata": {}
  },
  {
   "cell_type": "code",
   "execution_count": null,
   "source": [
    "# Array for local data to plot\n",
    "tdata=[]\n",
    "hdata=[]\n",
    "pdata=[]\n",
    "\n",
    "def updatePlot(t,h,p):\n",
    "    tdata.append(t)\n",
    "    hdata.append(h)\n",
    "    pdata.append(p)\n",
    "    positions = range(len(tdata));\n",
    "    \n",
    "    plt.clf();\n",
    "    plt.figure(figsize=(10, 8))\n",
    "    plt.subplot(311);\n",
    "    plt.ylabel(\"Temperature (C)\")\n",
    "    plt.plot(positions, tdata);\n",
    "    plt.subplot(312);\n",
    "    plt.ylabel(\"Humidity (%)\")\n",
    "    plt.plot(positions, hdata);\n",
    "    plt.subplot(313);\n",
    "    plt.ylabel(\"Pressure (hPa)\")\n",
    "    plt.plot(positions, pdata);\n",
    "    \n",
    "    display(plt.gcf()); \n"
   ],
   "outputs": [],
   "metadata": {}
  },
  {
   "cell_type": "markdown",
   "source": [
    "## Main loop\n",
    "\n",
    "This is the main loop reading values and sending them to the cloud and updating the LCD display. Press Control-C to abort of click the stop button."
   ],
   "metadata": {}
  },
  {
   "cell_type": "code",
   "execution_count": null,
   "source": [
    "# Get feeds\n",
    "tempFeed = getFeed(\"temperature\")\n",
    "humidFeed = getFeed(\"humidity\")\n",
    "pressFeed = getFeed(\"pressure\")\n",
    "lightFeed = getFeed(\"brightness\")\n",
    "\n",
    "# Set metadata associated with our measurement station\n",
    "metadata = {'lat': 36.010357,\n",
    "            'lon': -84.269646,\n",
    "            'ele': 850,\n",
    "            'created_at': None}\n",
    "\n",
    "# Time between readings\n",
    "delay = 20\n",
    "\n",
    "# The main loop\n",
    "try:\n",
    "    while True:\n",
    "        # Read pressure\n",
    "        p = bme280.get_pressure()\n",
    "        t = bme280.get_temperature()\n",
    "        h = bme280.get_humidity()\n",
    "        l = ltr559.get_lux()\n",
    "\n",
    "        clear_output(wait=True)\n",
    "        updatePlot(t,h,p)\n",
    "        updateLCD(t,h,p)\n",
    "\n",
    "        out=\"T: {0:.1f} C - Humidity: {1:.1f} % - Pressure: {2:.0f} hPa\".format(t,h,p)\n",
    "        print(out)\n",
    "\n",
    "        aio.send_data(tempFeed.key,  t, metadata)\n",
    "        aio.send_data(humidFeed.key, h, metadata)\n",
    "        aio.send_data(pressFeed.key, p, metadata)\n",
    "        aio.send_data(lightFeed.key, l, metadata)\n",
    "\n",
    "        time.sleep(delay)\n",
    "\n",
    "except KeyboardInterrupt:\n",
    "    print(\"Loop terminated by user\")\n",
    "    pass"
   ],
   "outputs": [],
   "metadata": {}
  },
  {
   "cell_type": "code",
   "execution_count": null,
   "source": [],
   "outputs": [],
   "metadata": {}
  }
 ],
 "metadata": {
  "kernelspec": {
   "display_name": "Python 3",
   "language": "python",
   "name": "python3"
  },
  "language_info": {
   "codemirror_mode": {
    "name": "ipython",
    "version": 3
   },
   "file_extension": ".py",
   "mimetype": "text/x-python",
   "name": "python",
   "nbconvert_exporter": "python",
   "pygments_lexer": "ipython3",
   "version": "3.7.3"
  }
 },
 "nbformat": 4,
 "nbformat_minor": 5
}