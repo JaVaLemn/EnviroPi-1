{
 "cells": [
  {
   "cell_type": "code",
   "execution_count": null,
   "id": "047a3c9d",
   "metadata": {},
   "outputs": [],
   "source": [
    "#!/usr/bin/env python3\n",
    "\n",
    "from PIL import Image\n",
    "from PIL import ImageDraw\n",
    "from PIL import ImageFont\n",
    "import time\n",
    "import random\n",
    "\n",
    "import ST7735\n",
    "\n",
    "\n",
    "MESSAGE = \"EnviroPi\"\n",
    "\n",
    "COLORS = [(227, 0, 0), (255, 127, 0), (255, 255, 0)]\n",
    "\n",
    "# Create ST7735 LCD display class.\n",
    "disp = ST7735.ST7735(\n",
    "    port=0,\n",
    "    cs=ST7735.BG_SPI_CS_FRONT,  # BG_SPI_CSB_BACK or BG_SPI_CS_FRONT\n",
    "    dc=9,\n",
    "    backlight=19,               # 18 for back BG slot, 19 for front BG slot.\n",
    "    rotation=270,\n",
    "    spi_speed_hz=10000000\n",
    ")\n",
    "\n",
    "# Initialize display.\n",
    "disp.begin()\n",
    "\n",
    "WIDTH = disp.width\n",
    "HEIGHT = disp.height\n",
    "\n",
    "\n",
    "img = Image.new('RGB', (WIDTH, HEIGHT), color=(10, 0, 0))\n",
    "\n",
    "draw = ImageDraw.Draw(img)\n",
    "\n",
    "font = ImageFont.truetype(\"/usr/share/fonts/truetype/dejavu/DejaVuSans-Bold.ttf\", 30)\n",
    "\n",
    "size_x, size_y = draw.textsize(MESSAGE, font)\n",
    "\n",
    "text_x = 160\n",
    "text_y = (80 - size_y) // 2\n",
    "\n",
    "t_start = time.time()\n",
    "\n",
    "\n",
    "fill = random.choice(COLORS)\n",
    "\n",
    "while True:\n",
    "    x = (time.time() - t_start) * 100\n",
    "    x %= (size_x + 160)\n",
    "    draw.rectangle((0, 0, 160, 80), (0, 0, 0))\n",
    "    draw.text((int(text_x - x), text_y), MESSAGE, font=font, fill=fill)\n",
    "    disp.display(img)\n",
    "\n"
   ]
  },
  {
   "cell_type": "code",
   "execution_count": null,
   "id": "679f29f3",
   "metadata": {},
   "outputs": [],
   "source": []
  },
  {
   "cell_type": "code",
   "execution_count": null,
   "id": "91078316",
   "metadata": {},
   "outputs": [],
   "source": []
  }
 ],
 "metadata": {
  "kernelspec": {
   "display_name": "Python 3",
   "language": "python",
   "name": "python3"
  },
  "language_info": {
   "codemirror_mode": {
    "name": "ipython",
    "version": 3
   },
   "file_extension": ".py",
   "mimetype": "text/x-python",
   "name": "python",
   "nbconvert_exporter": "python",
   "pygments_lexer": "ipython3",
   "version": "3.7.3"
  }
 },
 "nbformat": 4,
 "nbformat_minor": 5
}
