{
 "cells": [
  {
   "cell_type": "markdown",
   "source": [
    "## Sends environment info to Adafruit dashboard.\n",
    "### https://io.adafruit.com/ThelmaDefish/dashboards/weather-report"
   ],
   "metadata": {}
  },
  {
   "cell_type": "code",
   "execution_count": 3,
   "source": [
    "from Adafruit_IO import Client, Feed, RequestError\n",
    "from ltr559 import LTR559\n",
    "ADAFRUIT_IO_USERNAME = \"your_username_here\"\n",
    "ADAFRUIT_IO_KEY = \"your_key_here\"\n",
    "\n",
    "aio = Client(ADAFRUIT_IO_USERNAME, ADAFRUIT_IO_KEY)"
   ],
   "outputs": [],
   "metadata": {}
  },
  {
   "cell_type": "code",
   "execution_count": null,
   "source": [
    "\n"
   ],
   "outputs": [],
   "metadata": {}
  },
  {
   "cell_type": "code",
   "execution_count": 4,
   "source": [
    "from bme280 import BME280\n",
    "from ltr559 import LTR559\n",
    "bme280 = BME280()\n",
    "ltr559 = LTR559()\n",
    "from time import sleep\n",
    "import math\n",
    "\n",
    "\n",
    "\n",
    "# Initialize display.\n",
    "\n",
    "tempfeed = aio.feeds(\"temperature\")\n",
    "humifeed = aio.feeds(\"humidity\")\n",
    "lightfeed = aio.feeds(\"light\")\n",
    "pt = 0\n",
    "metadata = {'lat': 36.307735,\n",
    "            'lon': -82.365814,\n",
    "            'ele': 850,\n",
    "            'created_at': None}\n",
    "\n",
    "\n",
    "while True:\n",
    "    t = bme280.get_temperature()\n",
    "    h = bme280.get_humidity()\n",
    "    f = t * 9/5 + 32\n",
    "    l = ltr559.get_lux()\n",
    "    aio.send_data(tempfeed.key, round(f, 2), metadata)\n",
    "    aio.send_data(humifeed.key, round(h, 2), metadata)\n",
    "    aio.send_data(lightfeed.key, l, metadata)\n",
    "    print(\"Temperature: \" + str(round(f)) + \"º\")\n",
    "    sleep(10)"
   ],
   "outputs": [
    {
     "output_type": "stream",
     "name": "stdout",
     "text": [
      "Temperature: 72º\n",
      "Temperature: 89º\n",
      "Temperature: 89º\n",
      "Temperature: 89º\n",
      "Temperature: 89º\n",
      "Temperature: 89º\n",
      "Temperature: 89º\n",
      "Temperature: 89º\n",
      "Temperature: 89º\n",
      "Temperature: 89º\n",
      "Temperature: 89º\n",
      "Temperature: 89º\n",
      "Temperature: 89º\n",
      "Temperature: 89º\n",
      "Temperature: 89º\n",
      "Temperature: 89º\n",
      "Temperature: 89º\n",
      "Temperature: 89º\n",
      "Temperature: 89º\n",
      "Temperature: 89º\n",
      "Temperature: 89º\n",
      "Temperature: 89º\n",
      "Temperature: 89º\n",
      "Temperature: 89º\n",
      "Temperature: 89º\n",
      "Temperature: 89º\n",
      "Temperature: 89º\n",
      "Temperature: 89º\n",
      "Temperature: 89º\n",
      "Temperature: 89º\n",
      "Temperature: 89º\n",
      "Temperature: 89º\n",
      "Temperature: 89º\n",
      "Temperature: 89º\n",
      "Temperature: 89º\n",
      "Temperature: 89º\n",
      "Temperature: 89º\n",
      "Temperature: 89º\n",
      "Temperature: 89º\n",
      "Temperature: 89º\n",
      "Temperature: 89º\n",
      "Temperature: 89º\n",
      "Temperature: 89º\n",
      "Temperature: 89º\n",
      "Temperature: 89º\n",
      "Temperature: 89º\n",
      "Temperature: 89º\n",
      "Temperature: 89º\n",
      "Temperature: 89º\n",
      "Temperature: 89º\n",
      "Temperature: 89º\n",
      "Temperature: 89º\n",
      "Temperature: 89º\n",
      "Temperature: 89º\n",
      "Temperature: 89º\n",
      "Temperature: 89º\n",
      "Temperature: 89º\n",
      "Temperature: 89º\n",
      "Temperature: 89º\n",
      "Temperature: 89º\n",
      "Temperature: 89º\n",
      "Temperature: 89º\n",
      "Temperature: 89º\n",
      "Temperature: 89º\n",
      "Temperature: 89º\n",
      "Temperature: 89º\n",
      "Temperature: 89º\n",
      "Temperature: 89º\n",
      "Temperature: 89º\n",
      "Temperature: 89º\n",
      "Temperature: 89º\n",
      "Temperature: 89º\n",
      "Temperature: 89º\n",
      "Temperature: 89º\n",
      "Temperature: 89º\n",
      "Temperature: 89º\n",
      "Temperature: 89º\n",
      "Temperature: 89º\n",
      "Temperature: 89º\n",
      "Temperature: 89º\n",
      "Temperature: 89º\n",
      "Temperature: 89º\n"
     ]
    },
    {
     "output_type": "error",
     "ename": "ThrottlingError",
     "evalue": "Exceeded the limit of Adafruit IO requests in a short period of time. Please reduce the rate of requests and try again later.",
     "traceback": [
      "\u001b[0;31m---------------------------------------------------------------------------\u001b[0m",
      "\u001b[0;31mThrottlingError\u001b[0m                           Traceback (most recent call last)",
      "\u001b[0;32m<ipython-input-4-7512c17aee76>\u001b[0m in \u001b[0;36m<module>\u001b[0;34m\u001b[0m\n\u001b[1;32m     26\u001b[0m     \u001b[0ml\u001b[0m \u001b[0;34m=\u001b[0m \u001b[0mltr559\u001b[0m\u001b[0;34m.\u001b[0m\u001b[0mget_lux\u001b[0m\u001b[0;34m(\u001b[0m\u001b[0;34m)\u001b[0m\u001b[0;34m\u001b[0m\u001b[0;34m\u001b[0m\u001b[0m\n\u001b[1;32m     27\u001b[0m     \u001b[0maio\u001b[0m\u001b[0;34m.\u001b[0m\u001b[0msend_data\u001b[0m\u001b[0;34m(\u001b[0m\u001b[0mtempfeed\u001b[0m\u001b[0;34m.\u001b[0m\u001b[0mkey\u001b[0m\u001b[0;34m,\u001b[0m \u001b[0mround\u001b[0m\u001b[0;34m(\u001b[0m\u001b[0mf\u001b[0m\u001b[0;34m,\u001b[0m \u001b[0;36m2\u001b[0m\u001b[0;34m)\u001b[0m\u001b[0;34m,\u001b[0m \u001b[0mmetadata\u001b[0m\u001b[0;34m)\u001b[0m\u001b[0;34m\u001b[0m\u001b[0;34m\u001b[0m\u001b[0m\n\u001b[0;32m---> 28\u001b[0;31m     \u001b[0maio\u001b[0m\u001b[0;34m.\u001b[0m\u001b[0msend_data\u001b[0m\u001b[0;34m(\u001b[0m\u001b[0mhumifeed\u001b[0m\u001b[0;34m.\u001b[0m\u001b[0mkey\u001b[0m\u001b[0;34m,\u001b[0m \u001b[0mround\u001b[0m\u001b[0;34m(\u001b[0m\u001b[0mh\u001b[0m\u001b[0;34m,\u001b[0m \u001b[0;36m2\u001b[0m\u001b[0;34m)\u001b[0m\u001b[0;34m,\u001b[0m \u001b[0mmetadata\u001b[0m\u001b[0;34m)\u001b[0m\u001b[0;34m\u001b[0m\u001b[0;34m\u001b[0m\u001b[0m\n\u001b[0m\u001b[1;32m     29\u001b[0m     \u001b[0maio\u001b[0m\u001b[0;34m.\u001b[0m\u001b[0msend_data\u001b[0m\u001b[0;34m(\u001b[0m\u001b[0mlightfeed\u001b[0m\u001b[0;34m.\u001b[0m\u001b[0mkey\u001b[0m\u001b[0;34m,\u001b[0m \u001b[0ml\u001b[0m\u001b[0;34m,\u001b[0m \u001b[0mmetadata\u001b[0m\u001b[0;34m)\u001b[0m\u001b[0;34m\u001b[0m\u001b[0;34m\u001b[0m\u001b[0m\n\u001b[1;32m     30\u001b[0m     \u001b[0mprint\u001b[0m\u001b[0;34m(\u001b[0m\u001b[0;34m\"Temperature: \"\u001b[0m \u001b[0;34m+\u001b[0m \u001b[0mstr\u001b[0m\u001b[0;34m(\u001b[0m\u001b[0mround\u001b[0m\u001b[0;34m(\u001b[0m\u001b[0mf\u001b[0m\u001b[0;34m)\u001b[0m\u001b[0;34m)\u001b[0m \u001b[0;34m+\u001b[0m \u001b[0;34m\"º\"\u001b[0m\u001b[0;34m)\u001b[0m\u001b[0;34m\u001b[0m\u001b[0;34m\u001b[0m\u001b[0m\n",
      "\u001b[0;32m/usr/local/lib/python3.7/dist-packages/Adafruit_IO/client.py\u001b[0m in \u001b[0;36msend_data\u001b[0;34m(self, feed, value, metadata, precision)\u001b[0m\n\u001b[1;32m    152\u001b[0m                 \u001b[0;32mraise\u001b[0m \u001b[0mNotImplementedError\u001b[0m\u001b[0;34m(\u001b[0m\u001b[0;34m\"Using the precision kwarg requires a float value\"\u001b[0m\u001b[0;34m)\u001b[0m\u001b[0;34m\u001b[0m\u001b[0;34m\u001b[0m\u001b[0m\n\u001b[1;32m    153\u001b[0m         \u001b[0mpayload\u001b[0m \u001b[0;34m=\u001b[0m \u001b[0mself\u001b[0m\u001b[0;34m.\u001b[0m\u001b[0m_create_payload\u001b[0m\u001b[0;34m(\u001b[0m\u001b[0mvalue\u001b[0m\u001b[0;34m,\u001b[0m \u001b[0mmetadata\u001b[0m\u001b[0;34m)\u001b[0m\u001b[0;34m\u001b[0m\u001b[0;34m\u001b[0m\u001b[0m\n\u001b[0;32m--> 154\u001b[0;31m         \u001b[0;32mreturn\u001b[0m \u001b[0mself\u001b[0m\u001b[0;34m.\u001b[0m\u001b[0mcreate_data\u001b[0m\u001b[0;34m(\u001b[0m\u001b[0mfeed\u001b[0m\u001b[0;34m,\u001b[0m \u001b[0mpayload\u001b[0m\u001b[0;34m)\u001b[0m\u001b[0;34m\u001b[0m\u001b[0;34m\u001b[0m\u001b[0m\n\u001b[0m\u001b[1;32m    155\u001b[0m \u001b[0;34m\u001b[0m\u001b[0m\n\u001b[1;32m    156\u001b[0m     \u001b[0msend\u001b[0m \u001b[0;34m=\u001b[0m \u001b[0msend_data\u001b[0m\u001b[0;34m\u001b[0m\u001b[0;34m\u001b[0m\u001b[0m\n",
      "\u001b[0;32m/usr/local/lib/python3.7/dist-packages/Adafruit_IO/client.py\u001b[0m in \u001b[0;36mcreate_data\u001b[0;34m(self, feed, data)\u001b[0m\n\u001b[1;32m    252\u001b[0m         \"\"\"\n\u001b[1;32m    253\u001b[0m         \u001b[0mpath\u001b[0m \u001b[0;34m=\u001b[0m \u001b[0;34m\"feeds/{0}/data\"\u001b[0m\u001b[0;34m.\u001b[0m\u001b[0mformat\u001b[0m\u001b[0;34m(\u001b[0m\u001b[0mfeed\u001b[0m\u001b[0;34m)\u001b[0m\u001b[0;34m\u001b[0m\u001b[0;34m\u001b[0m\u001b[0m\n\u001b[0;32m--> 254\u001b[0;31m         \u001b[0;32mreturn\u001b[0m \u001b[0mData\u001b[0m\u001b[0;34m.\u001b[0m\u001b[0mfrom_dict\u001b[0m\u001b[0;34m(\u001b[0m\u001b[0mself\u001b[0m\u001b[0;34m.\u001b[0m\u001b[0m_post\u001b[0m\u001b[0;34m(\u001b[0m\u001b[0mpath\u001b[0m\u001b[0;34m,\u001b[0m \u001b[0mdata\u001b[0m\u001b[0;34m.\u001b[0m\u001b[0m_asdict\u001b[0m\u001b[0;34m(\u001b[0m\u001b[0;34m)\u001b[0m\u001b[0;34m)\u001b[0m\u001b[0;34m)\u001b[0m\u001b[0;34m\u001b[0m\u001b[0;34m\u001b[0m\u001b[0m\n\u001b[0m\u001b[1;32m    255\u001b[0m \u001b[0;34m\u001b[0m\u001b[0m\n\u001b[1;32m    256\u001b[0m     \u001b[0;32mdef\u001b[0m \u001b[0mdelete\u001b[0m\u001b[0;34m(\u001b[0m\u001b[0mself\u001b[0m\u001b[0;34m,\u001b[0m \u001b[0mfeed\u001b[0m\u001b[0;34m,\u001b[0m \u001b[0mdata_id\u001b[0m\u001b[0;34m)\u001b[0m\u001b[0;34m:\u001b[0m\u001b[0;34m\u001b[0m\u001b[0;34m\u001b[0m\u001b[0m\n",
      "\u001b[0;32m/usr/local/lib/python3.7/dist-packages/Adafruit_IO/client.py\u001b[0m in \u001b[0;36m_post\u001b[0;34m(self, path, data)\u001b[0m\n\u001b[1;32m    125\u001b[0m                                  \u001b[0mproxies\u001b[0m\u001b[0;34m=\u001b[0m\u001b[0mself\u001b[0m\u001b[0;34m.\u001b[0m\u001b[0mproxies\u001b[0m\u001b[0;34m,\u001b[0m\u001b[0;34m\u001b[0m\u001b[0;34m\u001b[0m\u001b[0m\n\u001b[1;32m    126\u001b[0m                                  data=json.dumps(data))\n\u001b[0;32m--> 127\u001b[0;31m         \u001b[0mself\u001b[0m\u001b[0;34m.\u001b[0m\u001b[0m_handle_error\u001b[0m\u001b[0;34m(\u001b[0m\u001b[0mresponse\u001b[0m\u001b[0;34m)\u001b[0m\u001b[0;34m\u001b[0m\u001b[0;34m\u001b[0m\u001b[0m\n\u001b[0m\u001b[1;32m    128\u001b[0m         \u001b[0;32mreturn\u001b[0m \u001b[0mresponse\u001b[0m\u001b[0;34m.\u001b[0m\u001b[0mjson\u001b[0m\u001b[0;34m(\u001b[0m\u001b[0;34m)\u001b[0m\u001b[0;34m\u001b[0m\u001b[0;34m\u001b[0m\u001b[0m\n\u001b[1;32m    129\u001b[0m \u001b[0;34m\u001b[0m\u001b[0m\n",
      "\u001b[0;32m/usr/local/lib/python3.7/dist-packages/Adafruit_IO/client.py\u001b[0m in \u001b[0;36m_handle_error\u001b[0;34m(response)\u001b[0m\n\u001b[1;32m    100\u001b[0m         \u001b[0;31m# Throttling Error\u001b[0m\u001b[0;34m\u001b[0m\u001b[0;34m\u001b[0m\u001b[0;34m\u001b[0m\u001b[0m\n\u001b[1;32m    101\u001b[0m         \u001b[0;32mif\u001b[0m \u001b[0mresponse\u001b[0m\u001b[0;34m.\u001b[0m\u001b[0mstatus_code\u001b[0m \u001b[0;34m==\u001b[0m \u001b[0;36m429\u001b[0m\u001b[0;34m:\u001b[0m\u001b[0;34m\u001b[0m\u001b[0;34m\u001b[0m\u001b[0m\n\u001b[0;32m--> 102\u001b[0;31m             \u001b[0;32mraise\u001b[0m \u001b[0mThrottlingError\u001b[0m\u001b[0;34m(\u001b[0m\u001b[0;34m)\u001b[0m\u001b[0;34m\u001b[0m\u001b[0;34m\u001b[0m\u001b[0m\n\u001b[0m\u001b[1;32m    103\u001b[0m         \u001b[0;31m# Resource on AdafruitIO not Found Error\u001b[0m\u001b[0;34m\u001b[0m\u001b[0;34m\u001b[0m\u001b[0;34m\u001b[0m\u001b[0m\n\u001b[1;32m    104\u001b[0m         \u001b[0;32melif\u001b[0m \u001b[0mresponse\u001b[0m\u001b[0;34m.\u001b[0m\u001b[0mstatus_code\u001b[0m \u001b[0;34m==\u001b[0m \u001b[0;36m400\u001b[0m\u001b[0;34m:\u001b[0m\u001b[0;34m\u001b[0m\u001b[0;34m\u001b[0m\u001b[0m\n",
      "\u001b[0;31mThrottlingError\u001b[0m: Exceeded the limit of Adafruit IO requests in a short period of time. Please reduce the rate of requests and try again later."
     ]
    }
   ],
   "metadata": {}
  },
  {
   "cell_type": "code",
   "execution_count": null,
   "source": [],
   "outputs": [],
   "metadata": {}
  }
 ],
 "metadata": {
  "kernelspec": {
   "display_name": "Python 3",
   "language": "python",
   "name": "python3"
  },
  "language_info": {
   "codemirror_mode": {
    "name": "ipython",
    "version": 3
   },
   "file_extension": ".py",
   "mimetype": "text/x-python",
   "name": "python",
   "nbconvert_exporter": "python",
   "pygments_lexer": "ipython3",
   "version": "3.7.3"
  }
 },
 "nbformat": 4,
 "nbformat_minor": 5
}